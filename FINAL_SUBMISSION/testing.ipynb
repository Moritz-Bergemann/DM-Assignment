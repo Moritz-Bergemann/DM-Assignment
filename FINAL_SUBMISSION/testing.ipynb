{
 "cells": [
  {
   "cell_type": "code",
   "execution_count": 1,
   "source": [
    "## START ##\n",
    "# Load libraries\n",
    "import pandas as pd\n",
    "import matplotlib.pyplot as plt\n",
    "import numpy as np\n",
    "\n",
    "\n",
    "# Load the dataset\n",
    "df = pd.read_csv('./data2021.student.csv')"
   ],
   "outputs": [],
   "metadata": {}
  },
  {
   "cell_type": "code",
   "execution_count": 3,
   "source": [
    "import data_prep\n",
    "\n",
    "df_train, df_test = data_prep.get_prepped_dataset(verbose=True, normalize=True)\n",
    "\n",
    "# df_train.to_csv('./final_train.csv', index=False)\n",
    "# df_test.to_csv('./final_test.csv', index=False)\n",
    "df_train.to_csv('./data_me.csv', index=False)\n",
    "\n",
    "print(\"Done!\")"
   ],
   "outputs": [
    {
     "output_type": "stream",
     "name": "stdout",
     "text": [
      "[v] Converting columns with >=30 unique values to categorical: ['Class', 'C2', 'C3', 'C5', 'C6', 'C7', 'C8', 'C10', 'C11', 'C12', 'C13', 'C14', 'C15', 'C17', 'C18', 'C20', 'C21', 'C22', 'C23', 'C24', 'C26', 'C27', 'C28', 'C29', 'C30', 'C32']\n",
      "[v] Removing columns with >=0.8 missing values: ['C11', 'C32']\n",
      "[v] Normalising (min-max) numeric columns\n",
      "[v] Dropping low-variance numeric columns: []\n",
      "[v] Removing duplicate columns '['C12', 'C26', 'C31']'\n",
      "[v] Dropping 2nd of high-corellation numeric columns: ['C25']\n",
      "[v] Dropping highly monotonous (>=0.95) categorical cols: ['C2', 'C10', 'C15', 'C17', 'C30']\n",
      "[v] Dropping high Cramer's V association categorical columns: []\n",
      "[v] Dropping 1000 duplicate rows\n",
      "[v] Dropped 0 columns that contained >0.5 missing values\n",
      "[v] Final training set size: 900\n",
      "[v] Final test set size: 100\n",
      "[v] Final columns (22): ['Class', 'C1', 'C3', 'C4', 'C5', 'C6', 'C7', 'C8', 'C9', 'C13', 'C14', 'C16', 'C18', 'C19', 'C20', 'C21', 'C22', 'C23', 'C24', 'C27', 'C28', 'C29']\n",
      "Done!\n"
     ]
    }
   ],
   "metadata": {}
  },
  {
   "cell_type": "code",
   "execution_count": 28,
   "source": [
    "import pandas as pd\n",
    "import matplotlib.pyplot as plt\n",
    "import numpy as np\n",
    "\n",
    "######## PREP STUFF #################\n",
    "# Load the dataset\n",
    "df = pd.read_csv('./data2021.student.csv')\n",
    "\n",
    "df.dtypes\n",
    "\n",
    "# Convert attributes with less than threshold unique values to categorical\n",
    "lt_cat_threshold_cols = [col for col in df.columns if df[col].nunique() <= 10]\n",
    "df[lt_cat_threshold_cols] = df[lt_cat_threshold_cols].astype('category')\n",
    "\n",
    "# # Normalise (min-max) numeric columns\n",
    "# numeric_cols = df.select_dtypes(include=['int64', 'float64']).columns\n",
    "# for col in numeric_cols:\n",
    "#     df[col] = (df[col]-df[col].min())/(df[col].max()-df[col].min())\n",
    "\n",
    "######################################\n",
    "\n",
    "##### Numeric Col variances\n",
    "# numeric_cols = df.select_dtypes(include=['int64', 'float64']).columns\n",
    "# df[numeric_cols].var()\n",
    "\n",
    "#### Number of unique values in categorical\n",
    "# cat_cols = df.select_dtypes(include=['category']).drop(['Class'], axis=1).columns\n",
    "# # df[cat_cols].nunique\n",
    "\n",
    "# #### Proportions of categorical cols made up of the same value\n",
    "# cat_cols = df.select_dtypes(include=['category']).drop(['Class'], axis=1).columns\n",
    "# for col in cat_cols:\n",
    "#     print(f\"{col}: {df[col].value_counts(normalize=True).max()}\")\n",
    "\n",
    "#### Basic duplicate detection\n",
    "# duplicate_cols = df.transpose().duplicated()\n",
    "# print(f\"Removing duplicate columns '{list(df.columns[duplicate_cols])}'\")\n",
    "# df = df.drop(list(df.columns[duplicate_cols]), axis=1)\n",
    "\n",
    "### Getting Correlation matrix for numeric attributes\n",
    "# numeric_cols = df.select_dtypes(include=['int64', 'float64']).columns\n",
    "# print(df[numeric_cols].corr())\n",
    "# df = df.drop(high_cor_cols, axis=1)"
   ],
   "outputs": [
    {
     "output_type": "stream",
     "name": "stdout",
     "text": [
      "           ID        C1        C4        C9       C16       C19       C25  \\\n",
      "ID   1.000000 -0.081143  0.038872  0.032181  0.007819 -0.013860  0.036843   \n",
      "C1  -0.081143  1.000000 -0.036778  0.031626  0.075945  0.000106 -0.034494   \n",
      "C4   0.038872 -0.036778  1.000000  0.620557  0.024229 -0.047899  1.000000   \n",
      "C9   0.032181  0.031626  0.620557  1.000000 -0.004097 -0.065236  0.619632   \n",
      "C16  0.007819  0.075945  0.024229 -0.004097  1.000000 -0.010017  0.022975   \n",
      "C19 -0.013860  0.000106 -0.047899 -0.065236 -0.010017  1.000000 -0.048343   \n",
      "C25  0.036843 -0.034494  1.000000  0.619632  0.022975 -0.048343  1.000000   \n",
      "C31  0.032181  0.031626  0.620557  1.000000 -0.004097 -0.065236  0.619632   \n",
      "\n",
      "          C31  \n",
      "ID   0.032181  \n",
      "C1   0.031626  \n",
      "C4   0.620557  \n",
      "C9   1.000000  \n",
      "C16 -0.004097  \n",
      "C19 -0.065236  \n",
      "C25  0.619632  \n",
      "C31  1.000000  \n"
     ]
    }
   ],
   "metadata": {}
  },
  {
   "cell_type": "code",
   "execution_count": 13,
   "source": [
    "import warnings\n",
    "warnings.filterwarnings(\"ignore\")\n",
    "\n",
    "df_no_id = df.drop(['ID'], axis=1)\n",
    "df_no_id_class = df.drop(['ID', 'Class'], axis=1)\n",
    "\n",
    "## Column Investigation ##\n",
    "## Unique Values\n",
    "print(\"Unique Values\")\n",
    "lt_20_unique = [col for col in df.columns if df[col].nunique() <= 20]\n",
    "print(f\"\\tThe following columns have 20 or less unique values (likely categorical): {lt_20_unique}\")\n",
    "\n",
    "print(\"Converting classes with less than 10 unique values to categorical...\")\n",
    "df[lt_20_unique] = df[lt_20_unique].astype('category')\n",
    "print(\"Done!\")\n",
    "\n",
    "## Missing Values\n",
    "print(\"\\nMissing Values:\")\n",
    "# Find cols with any missing values\n",
    "cols_with_missing = [col for col in df.columns if df[col].isnull().sum() > 0]\n",
    "print(f\"\\tThe following columns have missing values: {cols_with_missing}\")\n",
    "\n",
    "# Find number of missing values per col\n",
    "# Get proportion of each one missing\n",
    "missing_ratios = [df[col].isnull().sum()/len(df) for col in df.columns]\n",
    "missing_ratios_dict = {col:ratio for (col, ratio) in zip(list(df.columns), missing_ratios) if ratio > 0}\n",
    "print(f\"\\tThe followng are the per-column missing data ratios: {missing_ratios_dict}\")\n",
    "\n",
    "## Useless Data\n",
    "print(\"\\nUseless Data:\")\n",
    "print(f\"\\tClass is just a label, so it's obviously useless\") # TODO way to demonstrate this?\n",
    "\n",
    "## Duplicate Columns\n",
    "print(\"\\nDuplicate Columns:\")\n",
    "\n",
    "print(\"Analysing column correlations\")\n",
    "# Numeric columns\n",
    "numeric_cors = df_no_id.corr()\n",
    "with open('./corr.txt', 'w') as save_file:\n",
    "    save_file.write(numeric_cors.to_string())\n",
    "print(\"\\tNumeric Column Correlations:\")\n",
    "fig = plt.figure()\n",
    "ax = fig.add_subplot(111)\n",
    "cax = ax.matshow(numeric_cors, interpolation='nearest')\n",
    "ax.set_xticklabels(['']+list(numeric_cors.columns))\n",
    "ax.set_yticklabels(['']+list(numeric_cors.columns))\n",
    "\n",
    "plt.show()\n",
    "\n",
    "# Categorical Columns\n",
    "cat_cors = df_no_id_class.select_dtypes(include='category').apply(lambda x : pd.factorize(x)[0]).corr()\n",
    "\n",
    "print(\"\\tCategorical Column Correlations:\")\n",
    "fig = plt.figure()\n",
    "ax = fig.add_subplot(111)\n",
    "cax = ax.matshow(cat_cors, interpolation='nearest')\n",
    "print(\"CAT_CORS cols\")\n",
    "print(cat_cors.columns)\n",
    "fig.colorbar(cax)\n",
    "n = len(cat_cors.columns)\n",
    "print(np.arange(n))\n",
    "ax.set_xticks(np.arange(n))\n",
    "ax.set_xticklabels(list(cat_cors.columns))\n",
    "ax.set_yticks(np.arange(n))\n",
    "ax.set_yticklabels(list(cat_cors.columns))\n",
    "\n",
    "plt.setp([tick.label1 for tick in ax.xaxis.get_major_ticks()], rotation=90,\n",
    "         ha=\"right\", va=\"center\", rotation_mode=\"anchor\")\n",
    "# Rotate and align top ticklabels\n",
    "plt.setp([tick.label2 for tick in ax.xaxis.get_major_ticks()], rotation=90,\n",
    "         ha=\"left\", va=\"center\",rotation_mode=\"anchor\")\n",
    "\n",
    "plt.show()\n",
    "\n",
    "print(\"\\nDuplicate Rows:\")\n",
    "# duplicate_rows = df.iloc[]\n",
    "duplicate_rows = df[df_no_id.duplicated()]\n",
    "print(f\"\\tBasic row duplication search identified {len(duplicate_rows)} duplicate rows: {list(duplicate_rows['ID'])}\")\n",
    "\n",
    "\n",
    "# TODO outlier detection"
   ],
   "outputs": [
    {
     "output_type": "stream",
     "name": "stdout",
     "text": [
      "Unique Values\n",
      "\tThe following columns have 20 or less unique values (likely categorical): ['Class', 'C2', 'C3', 'C5', 'C6', 'C7', 'C8', 'C10', 'C11', 'C12', 'C13', 'C14', 'C15', 'C17', 'C18', 'C20', 'C21', 'C22', 'C23', 'C24', 'C26', 'C27', 'C28', 'C29', 'C30', 'C32']\n",
      "Converting classes with less than 10 unique values to categorical...\n",
      "Done!\n",
      "\n",
      "Missing Values:\n",
      "\tThe following columns have missing values: ['Class', 'C3', 'C4', 'C11', 'C13', 'C29', 'C32']\n",
      "\tThe followng are the per-column missing data ratios: {'Class': 0.09090909090909091, 'C3': 0.006363636363636364, 'C4': 0.006363636363636364, 'C11': 0.9954545454545455, 'C13': 0.005454545454545455, 'C29': 0.005454545454545455, 'C32': 0.9954545454545455}\n",
      "\n",
      "Useless Data:\n",
      "\tClass is just a label, so it's obviously useless\n",
      "\n",
      "Duplicate Columns:\n",
      "Analysing column correlations\n",
      "\tNumeric Column Correlations:\n"
     ]
    },
    {
     "output_type": "display_data",
     "data": {
      "image/png": "[encoded data removed]",
      "text/plain": [
       "<Figure size 432x288 with 1 Axes>"
      ]
     },
     "metadata": {
      "needs_background": "light"
     }
    },
    {
     "output_type": "stream",
     "name": "stdout",
     "text": [
      "\tCategorical Column Correlations:\n",
      "CAT_CORS cols\n",
      "Index(['C2', 'C3', 'C5', 'C6', 'C7', 'C8', 'C10', 'C11', 'C12', 'C13', 'C14',\n",
      "       'C15', 'C17', 'C18', 'C20', 'C21', 'C22', 'C23', 'C24', 'C26', 'C27',\n",
      "       'C28', 'C29', 'C30', 'C32'],\n",
      "      dtype='object')\n",
      "[ 0  1  2  3  4  5  6  7  8  9 10 11 12 13 14 15 16 17 18 19 20 21 22 23\n",
      " 24]\n"
     ]
    },
    {
     "output_type": "display_data",
     "data": {
      "image/png": "[encoded data removed]",
      "text/plain": [
       "<Figure size 432x288 with 2 Axes>"
      ]
     },
     "metadata": {
      "needs_background": "light"
     }
    },
    {
     "output_type": "stream",
     "name": "stdout",
     "text": [
      "\n",
      "Duplicate Rows:\n",
      "\tBasic row duplication search identified 100 duplicate rows: [901, 902, 903, 904, 905, 906, 907, 908, 909, 910, 911, 912, 913, 914, 915, 916, 917, 918, 919, 920, 921, 922, 923, 924, 925, 926, 927, 928, 929, 930, 931, 932, 933, 934, 935, 936, 937, 938, 939, 940, 941, 942, 943, 944, 945, 946, 947, 948, 949, 950, 951, 952, 953, 954, 955, 956, 957, 958, 959, 960, 961, 962, 963, 964, 965, 966, 967, 968, 969, 970, 971, 972, 973, 974, 975, 976, 977, 978, 979, 980, 981, 982, 983, 984, 985, 986, 987, 988, 989, 990, 991, 992, 993, 994, 995, 996, 997, 998, 999, 1000]\n"
     ]
    }
   ],
   "metadata": {}
  },
  {
   "cell_type": "code",
   "execution_count": null,
   "source": [
    "# Get some basic data\n",
    "print(f\"Columns (Counted): {len(df.columns)}\")\n",
    "print(df.columns)\n",
    "\n",
    "print(f\"Row Count: {len(df)}\")\n",
    "\n",
    "print(\"Summary:\")\n",
    "df.describe()\n",
    "\n",
    "print(\"Unique:\")\n",
    "df.nunique()"
   ],
   "outputs": [],
   "metadata": {}
  },
  {
   "cell_type": "code",
   "execution_count": 8,
   "source": [
    "## Check test set for missing data\n",
    "import pandas as pd\n",
    "import seaborn as sns\n",
    "df = pd.read_csv('data/data2021.student.csv')\n",
    "\n",
    "na_thresh = int(len(df.columns) * (1-0.1))\n",
    "df_dropna = df.dropna(thresh=na_thresh)\n",
    "df_dropna.to_csv(\"./beans.csv\")\n",
    "print(f\"Dropped {len(df) - len(df_dropna)} columns that contained >{0.1} missing values\")\n"
   ],
   "outputs": [
    {
     "output_type": "stream",
     "name": "stdout",
     "text": [
      "Dropped 1 columns that contained >0.1 missing values\n"
     ]
    }
   ],
   "metadata": {}
  }
 ],
 "metadata": {
  "orig_nbformat": 4,
  "kernelspec": {
   "name": "python3",
   "display_name": "Python 3.8.5 64-bit"
  },
  "language_info": {
   "name": "python",
   "version": "3.8.5",
   "mimetype": "text/x-python",
   "codemirror_mode": {
    "name": "ipython",
    "version": 3
   },
   "pygments_lexer": "ipython3",
   "nbconvert_exporter": "python",
   "file_extension": ".py"
  },
  "interpreter": {
   "hash": "916dbcbb3f70747c44a77c7bcd40155683ae19c65e1c03b4aa3499c5328201f1"
  }
 },
 "nbformat": 4,
 "nbformat_minor": 2
}