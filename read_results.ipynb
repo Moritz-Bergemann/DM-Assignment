{
 "cells": [
  {
   "cell_type": "code",
   "execution_count": 34,
   "source": [
    "import pickle\n",
    "import sklearn\n",
    "from sklearn.preprocessing import OneHotEncoder, LabelEncoder\n",
    "from sklearn.metrics import confusion_matrix, accuracy_score\n",
    "from sklearn.model_selection import GridSearchCV, train_test_split\n",
    "from imblearn.pipeline import Pipeline as ImbPipeline\n",
    "from sklearn.tree import DecisionTreeClassifier\n",
    "from imblearn.over_sampling import SMOTE, SMOTEN\n",
    "import pprint as pp\n",
    "import data_prep\n",
    "\n",
    "with open(\"trials/m=dt-s=over-b=10,d=none.pickle\", 'rb') as f:\n",
    "    result:GridSearchCV = pickle.load(f)\n",
    "# print(result.best_params_)\n",
    "# print()\n",
    "# pp.pprint(result.cv_results_)\n",
    "\n",
    "pipe = result.best_estimator_\n",
    "\n",
    "df_train, _ = data_prep.get_prepped_dataset(bins=10)\n",
    "df_X = df_train.drop('Class', axis=1)\n",
    "df_y = df_train['Class']\n",
    "X = df_X.to_numpy()\n",
    "y = df_y.to_numpy()\n",
    "y = LabelEncoder().fit_transform(y)\n",
    "\n",
    "X_train, X_val, y_train, y_val = train_test_split(X, y, test_size=0.2, random_state=123)\n",
    "\n",
    "categories = [list(df_train[col].cat.categories) for col in df_train.drop('Class', axis=1).columns]\n",
    "\n",
    "# pipe = ImbPipeline([\n",
    "#     ('smoten', SMOTEN(random_state=123, sampling_strategy='not majority')),\n",
    "#     ('onehot', OneHotEncoder(categories=[['bin-0','bin-1','bin-2','bin-3','bin-4','bin-5','bin-6','bin-7','bin-8','bin-9'],\n",
    "#                                         ['V1', 'V2', 'V3', 'V4', 'V5'],\n",
    "#                                         ['bin-0','bin-1','bin-2','bin-3','bin-4','bin-5','bin-6','bin-7','bin-8','bin-9'],\n",
    "#                                         ['V1', 'V10', 'V2', 'V3', 'V4', 'V5', 'V6', 'V7', 'V8', 'V9'],\n",
    "#                                         ['V1', 'V2', 'V3', 'V4', 'V5'],\n",
    "#                                         ['V1', 'V2', 'V3', 'V4'],\n",
    "#                                         ['V1', 'V2', 'V3', 'V4'],\n",
    "#                                         ['bin-0', 'bin-1', 'bin-2', 'bin-3', 'bin-4', 'bin-5', 'bin-6', 'bin-7', 'bin-8', 'bin-9'],\n",
    "#                                         ['V1', 'V2', 'V3'],\n",
    "#                                         ['V1', 'V2', 'V3', 'V4'],\n",
    "#                                         ['bin-0', 'bin-1', 'bin-2', 'bin-3', 'bin-4', 'bin-5', 'bin-6', 'bin-7', 'bin-8', 'bin-9'],\n",
    "#                                         ['V1', 'V2', 'V3'],\n",
    "#                                         ['bin-0','bin-1','bin-2','bin-3','bin-4','bin-5','bin-6','bin-7','bin-8','bin-9'],\n",
    "#                                         [1, 2, 3, 4],\n",
    "#                                         ['V1', 'V2', 'V3', 'V4', 'V5'],\n",
    "#                                         ['V1', 'V2'],\n",
    "#                                         [1, 2, 3, 4],\n",
    "#                                         ['V1', 'V2', 'V3'],\n",
    "#                                         [1, 2, 3, 4],\n",
    "#                                         ['V1', 'V2', 'V3', 'V4'],\n",
    "#                                         [1.0, 2.0]])),\n",
    "#         ('model_dt', DecisionTreeClassifier(criterion='entropy', min_samples_leaf=10))\n",
    "# ])\n",
    "\n",
    "pipe = ImbPipeline([\n",
    "    ('smoten', SMOTEN(random_state=123, sampling_strategy='not majority')),\n",
    "    ('onehot', OneHotEncoder(categories=categories)),\n",
    "    ('model_dt', DecisionTreeClassifier(criterion='entropy', min_samples_leaf=10))\n",
    "    ])\n",
    "\n",
    "score = accuracy_score(pipe.predict(X_val), y_val)\n",
    "print(f\"Score: {score}\")"
   ],
   "outputs": [
    {
     "output_type": "stream",
     "name": "stdout",
     "text": [
      "Score: 0.6722222222222223\n"
     ]
    }
   ],
   "metadata": {}
  }
 ],
 "metadata": {
  "orig_nbformat": 4,
  "language_info": {
   "name": "python",
   "version": "3.8.5",
   "mimetype": "text/x-python",
   "codemirror_mode": {
    "name": "ipython",
    "version": 3
   },
   "pygments_lexer": "ipython3",
   "nbconvert_exporter": "python",
   "file_extension": ".py"
  },
  "kernelspec": {
   "name": "python3",
   "display_name": "Python 3.8.5 64-bit"
  },
  "interpreter": {
   "hash": "31f2aee4e71d21fbe5cf8b01ff0e069b9275f58929596ceb00d14d90e3e16cd6"
  }
 },
 "nbformat": 4,
 "nbformat_minor": 2
}