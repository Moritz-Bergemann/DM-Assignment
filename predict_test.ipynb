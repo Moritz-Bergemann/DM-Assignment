{
 "cells": [
  {
   "cell_type": "code",
   "execution_count": 25,
   "source": [
    "import data_prep\n",
    "import pandas as pd\n",
    "import numpy as np\n",
    "\n",
    "# Get the preprocessed dataset\n",
    "df = data_prep.get_prepped_dataset()\n",
    "\n",
    "print(df.dtypes)"
   ],
   "outputs": [
    {
     "output_type": "stream",
     "name": "stdout",
     "text": [
      "Doing hceeky labels\n",
      "Doing hceeky labels\n",
      "Doing hceeky labels\n",
      "Doing hceeky labels\n",
      "Doing hceeky labels\n",
      "Doing hceeky labels\n",
      "Doing hceeky labels\n",
      "Removing duplicate rows...\n",
      "Removing duplicate columns '['C12', 'C26', 'C31']'\n",
      "Removing second of known 'duplicate' columns (100% correlation): [C4, C25]\n",
      "Removing columns with more than 80% missing values: ['C11', 'C32']\n",
      "Removing columns with only 1 unique value: ['C10', 'C15', 'C17', 'C30']\n",
      "Filling missing values with column node\n",
      "Class    category\n",
      "C1       category\n",
      "C2       category\n",
      "C3       category\n",
      "C4       category\n",
      "C5       category\n",
      "C6       category\n",
      "C7       category\n",
      "C8       category\n",
      "C9       category\n",
      "C13      category\n",
      "C14      category\n",
      "C16      category\n",
      "C18      category\n",
      "C19      category\n",
      "C20      category\n",
      "C21      category\n",
      "C22      category\n",
      "C23      category\n",
      "C24      category\n",
      "C27      category\n",
      "C28      category\n",
      "C29      category\n",
      "dtype: object\n"
     ]
    }
   ],
   "metadata": {}
  },
  {
   "cell_type": "code",
   "execution_count": 40,
   "source": [
    "# Try some knn\n",
    "from sklearn.neighbors import KNeighborsClassifier\n",
    "from sklearn.preprocessing import OneHotEncoder\n",
    "from sklearn.model_selection import train_test_split\n",
    "from sklearn.metrics import confusion_matrix\n",
    "\n",
    "train_test_ratio = 0.8\n",
    "\n",
    "performance_arr = []\n",
    "\n",
    "for n in range(1, 101):\n",
    "    knn = KNeighborsClassifier(n_neighbors=1)\n",
    "\n",
    "    last_train_row = int(len(df) * train_test_ratio)\n",
    "\n",
    "    X = df.drop('Class', axis=1).values     # Labels\n",
    "    y = df['Class'].values                  # Classes\n",
    "\n",
    "    X = OneHotEncoder().fit_transform(X)\n",
    "\n",
    "    X_train, X_test, y_train, y_test = train_test_split(X, y, test_size=0.20)\n",
    "\n",
    "    knn.fit(X_train, y_train)\n",
    "\n",
    "    y_predict = knn.predict(X_test)\n",
    "\n",
    "    result = np.array([y_predict[ii] == y_test[ii] for ii in range(len(y_test))])\n",
    "\n",
    "    performance = np.count_nonzero(result)/len(result)\n",
    "\n",
    "    performance_arr.append(performance)\n",
    "\n",
    "best_n = performance_arr.index(max(performance_arr))\n",
    "print(best_n)\n",
    "\n",
    "print(performance_arr[best_n])"
   ],
   "outputs": [
    {
     "output_type": "stream",
     "name": "stdout",
     "text": [
      "77\n"
     ]
    }
   ],
   "metadata": {}
  }
 ],
 "metadata": {
  "orig_nbformat": 4,
  "language_info": {
   "name": "python",
   "version": "3.8.5",
   "mimetype": "text/x-python",
   "codemirror_mode": {
    "name": "ipython",
    "version": 3
   },
   "pygments_lexer": "ipython3",
   "nbconvert_exporter": "python",
   "file_extension": ".py"
  },
  "kernelspec": {
   "name": "python3",
   "display_name": "Python 3.8.5 64-bit"
  },
  "interpreter": {
   "hash": "31f2aee4e71d21fbe5cf8b01ff0e069b9275f58929596ceb00d14d90e3e16cd6"
  }
 },
 "nbformat": 4,
 "nbformat_minor": 2
}