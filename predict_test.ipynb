{
 "cells": [
  {
   "cell_type": "code",
   "execution_count": 1,
   "source": [
    "import data_prep\n",
    "import pandas as pd\n",
    "\n",
    "# Get the preprocessed dataset\n",
    "df = data_prep.get_prepped_dataset()"
   ],
   "outputs": [
    {
     "output_type": "stream",
     "name": "stdout",
     "text": [
      "Removing duplicate rows...\n",
      "Removing duplicate columns '['C12', 'C26', 'C31']'\n",
      "Removing second of known 'duplicate' columns (100% correlation): [C4, C25]\n",
      "Removing columns with more than 80% missing values: ['C11', 'C32']\n",
      "Removing columns with only 1 unique value: ['C10', 'C15', 'C17', 'C30']\n",
      "Filling missing values with column node\n"
     ]
    }
   ],
   "metadata": {}
  },
  {
   "cell_type": "code",
   "execution_count": 8,
   "source": [
    "# Try some knn\n",
    "from sklearn.neighbors import KNeighborsClassifier\n",
    "\n",
    "knn = KNeighborsClassifier(n_neighbors=3)\n",
    "\n",
    "last_train_row = int(len(df) * 0.8)\n",
    "\n",
    "df_train = df[:last_train_row - 1]\n",
    "df_val = df[last_train_row:]\n",
    "\n",
    "\n",
    "print(\"df_train\")\n",
    "print(df_train)\n",
    "print(\"df_val\")\n",
    "print(df_val)"
   ],
   "outputs": [
    {
     "output_type": "stream",
     "name": "stdout",
     "text": [
      "    Class            C1   C2  C3            C4  C5  C6  C7  C8  \\\n",
      "0     1.0  (52.2, 57.9]  yes  V5   (9.9, 16.8]  V2  V1  V1  V3   \n",
      "1     0.0  (29.4, 35.1]  yes  V3   (9.9, 16.8]  V7  V1  V1  V1   \n",
      "2     1.0  (35.1, 40.8]  yes  V5  (16.8, 23.7]  V2  V1  V2  V3   \n",
      "3     0.0  (23.7, 29.4]  yes  V3   (9.9, 16.8]  V7  V1  V1  V4   \n",
      "4     0.0  (35.1, 40.8]  yes  V3   (9.9, 16.8]  V1  V1  V4  V1   \n",
      "..    ...           ...  ...  ..           ...  ..  ..  ..  ..   \n",
      "714   0.0  (29.4, 35.1]  yes  V3  (16.8, 23.7]  V5  V1  V4  V1   \n",
      "715   0.0  (29.4, 35.1]  yes  V4  (23.7, 30.6]  V7  V4  V4  V4   \n",
      "716   0.0  (35.1, 40.8]  yes  V2  (16.8, 23.7]  V3  V1  V4  V1   \n",
      "717   0.0  (29.4, 35.1]  yes  V5   (9.9, 16.8]  V7  V3  V4  V3   \n",
      "718   0.0  (29.4, 35.1]  yes  V5  (23.7, 30.6]  V3  V3  V4  V4   \n",
      "\n",
      "                    C9  ... C18               C19 C20 C21 C22 C23 C24 C27 C28  \\\n",
      "0     (7519.0, 9336.5]  ...  V1  (3544.2, 4180.3]   4  V2  V2   1  V3   4  V3   \n",
      "1     (3884.0, 5701.5]  ...  V1  (4816.4, 5452.5]   2  V4  V1   2  V1   2  V3   \n",
      "2     (3884.0, 5701.5]  ...  V1  (3544.2, 4180.3]   3  V3  V2   1  V2   4  V1   \n",
      "3    (230.825, 2066.5]  ...  V1  (6088.6, 6724.7]   4  V2  V1   1  V1   2  V2   \n",
      "4    (230.825, 2066.5]  ...  V1  (5452.5, 6088.6]   4  V3  V1   1  V1   4  V4   \n",
      "..                 ...  ...  ..               ...  ..  ..  ..  ..  ..  ..  ..   \n",
      "714  (230.825, 2066.5]  ...  V1  (4180.3, 4816.4]   2  V4  V2   2  V2   4  V1   \n",
      "715  (230.825, 2066.5]  ...  V1  (2908.1, 3544.2]   3  V2  V2   1  V2   4  V2   \n",
      "716  (230.825, 2066.5]  ...  V1  (3544.2, 4180.3]   4  V2  V2   1  V2   3  V4   \n",
      "717   (3884.0, 5701.5]  ...  V1  (3544.2, 4180.3]   4  V2  V1   1  V3   1  V2   \n",
      "718   (2066.5, 3884.0]  ...  V1  (3544.2, 4180.3]   2  V2  V2   1  V2   3  V3   \n",
      "\n",
      "     C29  \n",
      "0    1.0  \n",
      "1    2.0  \n",
      "2    1.0  \n",
      "3    1.0  \n",
      "4    1.0  \n",
      "..   ...  \n",
      "714  1.0  \n",
      "715  2.0  \n",
      "716  1.0  \n",
      "717  1.0  \n",
      "718  2.0  \n",
      "\n",
      "[719 rows x 23 columns]\n",
      "    Class              C1   C2  C3            C4   C5  C6  C7  C8  \\\n",
      "720   1.0    (23.7, 29.4]  yes  V3  (30.6, 37.5]   V1  V1  V1  V2   \n",
      "721   0.0    (40.8, 46.5]  yes  V3   (9.9, 16.8]   V3  V4  V3  V1   \n",
      "722   1.0  (17.943, 23.7]  yes  V2  (23.7, 30.6]   V3  V2  V2  V4   \n",
      "723   1.0  (17.943, 23.7]  yes  V3  (23.7, 30.6]   V3  V1  V1  V1   \n",
      "724   0.0    (29.4, 35.1]  yes  V4  (23.7, 30.6]   V7  V2  V1  V4   \n",
      "..    ...             ...  ...  ..           ...  ...  ..  ..  ..   \n",
      "895   0.0    (23.7, 29.4]  yes  V2  (16.8, 23.7]   V3  V1  V1  V4   \n",
      "896   1.0    (35.1, 40.8]  yes  V3  (16.8, 23.7]   V9  V1  V4  V4   \n",
      "897   0.0    (23.7, 29.4]  yes  V5  (23.7, 30.6]   V1  V5  V1  V1   \n",
      "898   0.0    (29.4, 35.1]  yes  V1  (44.4, 51.3]  V10  V2  V2  V3   \n",
      "899   0.0    (29.4, 35.1]  yes  V2  (16.8, 23.7]   V3  V1  V4  V4   \n",
      "\n",
      "                    C9  ... C18               C19 C20 C21 C22 C23 C24 C27 C28  \\\n",
      "720   (7519.0, 9336.5]  ...  V1  (4816.4, 5452.5]   2  V2  V1   1  V2   2  V3   \n",
      "721  (230.825, 2066.5]  ...  V1  (3544.2, 4180.3]   3  V1  V1   2  V1   3  V2   \n",
      "722   (2066.5, 3884.0]  ...  V1  (4816.4, 5452.5]   2  V2  V2   1  V1   3  V4   \n",
      "723  (230.825, 2066.5]  ...  V1  (4816.4, 5452.5]   4  V2  V1   1  V1   2  V3   \n",
      "724   (2066.5, 3884.0]  ...  V1  (4180.3, 4816.4]   3  V1  V1   1  V2   2  V3   \n",
      "..                 ...  ...  ..               ...  ..  ..  ..  ..  ..  ..  ..   \n",
      "895   (2066.5, 3884.0]  ...  V1  (2908.1, 3544.2]   1  V2  V1   1  V2   4  V2   \n",
      "896   (3884.0, 5701.5]  ...  V1  (4180.3, 4816.4]   2  V5  V1   2  V2   2  V3   \n",
      "897   (2066.5, 3884.0]  ...  V1  (5452.5, 6088.6]   4  V2  V1   1  V1   2  V2   \n",
      "898   (7519.0, 9336.5]  ...  V1  (4816.4, 5452.5]   4  V3  V2   1  V3   2  V3   \n",
      "899   (3884.0, 5701.5]  ...  V1  (6724.7, 7360.8]   2  V2  V2   1  V2   3  V3   \n",
      "\n",
      "     C29  \n",
      "720  2.0  \n",
      "721  1.0  \n",
      "722  1.0  \n",
      "723  2.0  \n",
      "724  1.0  \n",
      "..   ...  \n",
      "895  1.0  \n",
      "896  2.0  \n",
      "897  1.0  \n",
      "898  1.0  \n",
      "899  1.0  \n",
      "\n",
      "[180 rows x 23 columns]\n"
     ]
    }
   ],
   "metadata": {}
  }
 ],
 "metadata": {
  "orig_nbformat": 4,
  "language_info": {
   "name": "python",
   "version": "3.8.10",
   "mimetype": "text/x-python",
   "codemirror_mode": {
    "name": "ipython",
    "version": 3
   },
   "pygments_lexer": "ipython3",
   "nbconvert_exporter": "python",
   "file_extension": ".py"
  },
  "kernelspec": {
   "name": "python3",
   "display_name": "Python 3.8.10 64-bit"
  },
  "interpreter": {
   "hash": "31f2aee4e71d21fbe5cf8b01ff0e069b9275f58929596ceb00d14d90e3e16cd6"
  }
 },
 "nbformat": 4,
 "nbformat_minor": 2
}